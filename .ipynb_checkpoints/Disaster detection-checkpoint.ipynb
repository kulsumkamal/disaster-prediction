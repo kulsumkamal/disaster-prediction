{
 "cells": [
  {
   "cell_type": "code",
   "execution_count": 1,
   "metadata": {
    "_cell_guid": "b1076dfc-b9ad-4769-8c92-a6c4dae69d19",
    "_uuid": "8f2839f25d086af736a60e9eeb907d3b93b6e0e5",
    "execution": {
     "iopub.execute_input": "2022-02-18T17:00:04.555958Z",
     "iopub.status.busy": "2022-02-18T17:00:04.554667Z",
     "iopub.status.idle": "2022-02-18T17:00:04.565576Z",
     "shell.execute_reply": "2022-02-18T17:00:04.565946Z",
     "shell.execute_reply.started": "2022-02-18T16:58:54.435353Z"
    },
    "papermill": {
     "duration": 0.037406,
     "end_time": "2022-02-18T17:00:04.566173",
     "exception": false,
     "start_time": "2022-02-18T17:00:04.528767",
     "status": "completed"
    },
    "tags": []
   },
   "outputs": [
    {
     "name": "stdout",
     "output_type": "stream",
     "text": [
      "/kaggle/input/nlp-getting-started/sample_submission.csv\n",
      "/kaggle/input/nlp-getting-started/train.csv\n",
      "/kaggle/input/nlp-getting-started/test.csv\n"
     ]
    }
   ],
   "source": [
    "# This Python 3 environment comes with many helpful analytics libraries installed\n",
    "# It is defined by the kaggle/python Docker image: https://github.com/kaggle/docker-python\n",
    "# For example, here's several helpful packages to load\n",
    "\n",
    "import numpy as np # linear algebra\n",
    "import pandas as pd # data processing, CSV file I/O (e.g. pd.read_csv)\n",
    "\n",
    "# Input data files are available in the read-only \"../input/\" directory\n",
    "# For example, running this (by clicking run or pressing Shift+Enter) will list all files under the input directory\n",
    "\n",
    "import os\n",
    "for dirname, _, filenames in os.walk('/kaggle/input'):\n",
    "    for filename in filenames:\n",
    "        print(os.path.join(dirname, filename))\n",
    "\n",
    "# You can write up to 20GB to the current directory (/kaggle/working/) that gets preserved as output when you create a version using \"Save & Run All\" \n",
    "# You can also write temporary files to /kaggle/temp/, but they won't be saved outside of the current session"
   ]
  },
  {
   "cell_type": "code",
   "execution_count": 2,
   "metadata": {
    "execution": {
     "iopub.execute_input": "2022-02-18T17:00:04.610460Z",
     "iopub.status.busy": "2022-02-18T17:00:04.609784Z",
     "iopub.status.idle": "2022-02-18T17:00:04.612634Z",
     "shell.execute_reply": "2022-02-18T17:00:04.613076Z",
     "shell.execute_reply.started": "2022-02-18T16:58:54.749593Z"
    },
    "papermill": {
     "duration": 0.02567,
     "end_time": "2022-02-18T17:00:04.613212",
     "exception": false,
     "start_time": "2022-02-18T17:00:04.587542",
     "status": "completed"
    },
    "tags": []
   },
   "outputs": [],
   "source": [
    "import re\n",
    "from collections import Counter"
   ]
  },
  {
   "cell_type": "code",
   "execution_count": 3,
   "metadata": {
    "execution": {
     "iopub.execute_input": "2022-02-18T17:00:04.657265Z",
     "iopub.status.busy": "2022-02-18T17:00:04.656596Z",
     "iopub.status.idle": "2022-02-18T17:00:04.732185Z",
     "shell.execute_reply": "2022-02-18T17:00:04.732629Z",
     "shell.execute_reply.started": "2022-02-18T16:58:55.006196Z"
    },
    "papermill": {
     "duration": 0.098967,
     "end_time": "2022-02-18T17:00:04.732772",
     "exception": false,
     "start_time": "2022-02-18T17:00:04.633805",
     "status": "completed"
    },
    "tags": []
   },
   "outputs": [],
   "source": [
    "tweets = pd.read_csv('../input/nlp-getting-started/train.csv')\n",
    "test = pd.read_csv('../input/nlp-getting-started/test.csv')"
   ]
  },
  {
   "cell_type": "code",
   "execution_count": 4,
   "metadata": {
    "execution": {
     "iopub.execute_input": "2022-02-18T17:00:04.776658Z",
     "iopub.status.busy": "2022-02-18T17:00:04.776165Z",
     "iopub.status.idle": "2022-02-18T17:00:04.795748Z",
     "shell.execute_reply": "2022-02-18T17:00:04.796191Z",
     "shell.execute_reply.started": "2022-02-18T16:58:55.631292Z"
    },
    "papermill": {
     "duration": 0.043145,
     "end_time": "2022-02-18T17:00:04.796338",
     "exception": false,
     "start_time": "2022-02-18T17:00:04.753193",
     "status": "completed"
    },
    "tags": []
   },
   "outputs": [
    {
     "data": {
      "text/html": [
       "<div>\n",
       "<style scoped>\n",
       "    .dataframe tbody tr th:only-of-type {\n",
       "        vertical-align: middle;\n",
       "    }\n",
       "\n",
       "    .dataframe tbody tr th {\n",
       "        vertical-align: top;\n",
       "    }\n",
       "\n",
       "    .dataframe thead th {\n",
       "        text-align: right;\n",
       "    }\n",
       "</style>\n",
       "<table border=\"1\" class=\"dataframe\">\n",
       "  <thead>\n",
       "    <tr style=\"text-align: right;\">\n",
       "      <th></th>\n",
       "      <th>id</th>\n",
       "      <th>keyword</th>\n",
       "      <th>location</th>\n",
       "      <th>text</th>\n",
       "      <th>target</th>\n",
       "    </tr>\n",
       "  </thead>\n",
       "  <tbody>\n",
       "    <tr>\n",
       "      <th>0</th>\n",
       "      <td>1</td>\n",
       "      <td>NaN</td>\n",
       "      <td>NaN</td>\n",
       "      <td>Our Deeds are the Reason of this #earthquake M...</td>\n",
       "      <td>1</td>\n",
       "    </tr>\n",
       "    <tr>\n",
       "      <th>1</th>\n",
       "      <td>4</td>\n",
       "      <td>NaN</td>\n",
       "      <td>NaN</td>\n",
       "      <td>Forest fire near La Ronge Sask. Canada</td>\n",
       "      <td>1</td>\n",
       "    </tr>\n",
       "    <tr>\n",
       "      <th>2</th>\n",
       "      <td>5</td>\n",
       "      <td>NaN</td>\n",
       "      <td>NaN</td>\n",
       "      <td>All residents asked to 'shelter in place' are ...</td>\n",
       "      <td>1</td>\n",
       "    </tr>\n",
       "    <tr>\n",
       "      <th>3</th>\n",
       "      <td>6</td>\n",
       "      <td>NaN</td>\n",
       "      <td>NaN</td>\n",
       "      <td>13,000 people receive #wildfires evacuation or...</td>\n",
       "      <td>1</td>\n",
       "    </tr>\n",
       "    <tr>\n",
       "      <th>4</th>\n",
       "      <td>7</td>\n",
       "      <td>NaN</td>\n",
       "      <td>NaN</td>\n",
       "      <td>Just got sent this photo from Ruby #Alaska as ...</td>\n",
       "      <td>1</td>\n",
       "    </tr>\n",
       "  </tbody>\n",
       "</table>\n",
       "</div>"
      ],
      "text/plain": [
       "   id keyword location                                               text  \\\n",
       "0   1     NaN      NaN  Our Deeds are the Reason of this #earthquake M...   \n",
       "1   4     NaN      NaN             Forest fire near La Ronge Sask. Canada   \n",
       "2   5     NaN      NaN  All residents asked to 'shelter in place' are ...   \n",
       "3   6     NaN      NaN  13,000 people receive #wildfires evacuation or...   \n",
       "4   7     NaN      NaN  Just got sent this photo from Ruby #Alaska as ...   \n",
       "\n",
       "   target  \n",
       "0       1  \n",
       "1       1  \n",
       "2       1  \n",
       "3       1  \n",
       "4       1  "
      ]
     },
     "execution_count": 4,
     "metadata": {},
     "output_type": "execute_result"
    }
   ],
   "source": [
    "tweets.head()"
   ]
  },
  {
   "cell_type": "code",
   "execution_count": 5,
   "metadata": {
    "execution": {
     "iopub.execute_input": "2022-02-18T17:00:04.840043Z",
     "iopub.status.busy": "2022-02-18T17:00:04.839580Z",
     "iopub.status.idle": "2022-02-18T17:00:04.846011Z",
     "shell.execute_reply": "2022-02-18T17:00:04.845537Z",
     "shell.execute_reply.started": "2022-02-18T16:58:55.910557Z"
    },
    "papermill": {
     "duration": 0.029449,
     "end_time": "2022-02-18T17:00:04.846136",
     "exception": false,
     "start_time": "2022-02-18T17:00:04.816687",
     "status": "completed"
    },
    "tags": []
   },
   "outputs": [
    {
     "data": {
      "text/plain": [
       "(7613, 5)"
      ]
     },
     "execution_count": 5,
     "metadata": {},
     "output_type": "execute_result"
    }
   ],
   "source": [
    "tweets.shape"
   ]
  },
  {
   "cell_type": "code",
   "execution_count": 6,
   "metadata": {
    "execution": {
     "iopub.execute_input": "2022-02-18T17:00:04.897235Z",
     "iopub.status.busy": "2022-02-18T17:00:04.896736Z",
     "iopub.status.idle": "2022-02-18T17:00:04.916038Z",
     "shell.execute_reply": "2022-02-18T17:00:04.916491Z",
     "shell.execute_reply.started": "2022-02-18T16:58:56.144749Z"
    },
    "papermill": {
     "duration": 0.049123,
     "end_time": "2022-02-18T17:00:04.916646",
     "exception": false,
     "start_time": "2022-02-18T17:00:04.867523",
     "status": "completed"
    },
    "tags": []
   },
   "outputs": [
    {
     "name": "stdout",
     "output_type": "stream",
     "text": [
      "<class 'pandas.core.frame.DataFrame'>\n",
      "RangeIndex: 7613 entries, 0 to 7612\n",
      "Data columns (total 5 columns):\n",
      " #   Column    Non-Null Count  Dtype \n",
      "---  ------    --------------  ----- \n",
      " 0   id        7613 non-null   int64 \n",
      " 1   keyword   7552 non-null   object\n",
      " 2   location  5080 non-null   object\n",
      " 3   text      7613 non-null   object\n",
      " 4   target    7613 non-null   int64 \n",
      "dtypes: int64(2), object(3)\n",
      "memory usage: 297.5+ KB\n"
     ]
    }
   ],
   "source": [
    "tweets.info()"
   ]
  },
  {
   "cell_type": "code",
   "execution_count": 7,
   "metadata": {
    "execution": {
     "iopub.execute_input": "2022-02-18T17:00:04.962527Z",
     "iopub.status.busy": "2022-02-18T17:00:04.961969Z",
     "iopub.status.idle": "2022-02-18T17:00:04.968773Z",
     "shell.execute_reply": "2022-02-18T17:00:04.968371Z",
     "shell.execute_reply.started": "2022-02-18T16:58:56.383553Z"
    },
    "papermill": {
     "duration": 0.03076,
     "end_time": "2022-02-18T17:00:04.968891",
     "exception": false,
     "start_time": "2022-02-18T17:00:04.938131",
     "status": "completed"
    },
    "tags": []
   },
   "outputs": [
    {
     "data": {
      "text/plain": [
       "222"
      ]
     },
     "execution_count": 7,
     "metadata": {},
     "output_type": "execute_result"
    }
   ],
   "source": [
    "len(tweets.keyword.unique())"
   ]
  },
  {
   "cell_type": "code",
   "execution_count": 8,
   "metadata": {
    "execution": {
     "iopub.execute_input": "2022-02-18T17:00:05.017752Z",
     "iopub.status.busy": "2022-02-18T17:00:05.017195Z",
     "iopub.status.idle": "2022-02-18T17:00:05.020574Z",
     "shell.execute_reply": "2022-02-18T17:00:05.021001Z",
     "shell.execute_reply.started": "2022-02-18T16:58:56.772389Z"
    },
    "papermill": {
     "duration": 0.030666,
     "end_time": "2022-02-18T17:00:05.021158",
     "exception": false,
     "start_time": "2022-02-18T17:00:04.990492",
     "status": "completed"
    },
    "tags": []
   },
   "outputs": [
    {
     "data": {
      "text/plain": [
       "array([nan, 'Birmingham', 'Est. September 2012 - Bristol', ...,\n",
       "       'Vancouver, Canada', 'London ', 'Lincoln'], dtype=object)"
      ]
     },
     "execution_count": 8,
     "metadata": {},
     "output_type": "execute_result"
    }
   ],
   "source": [
    "tweets.location.unique()"
   ]
  },
  {
   "cell_type": "code",
   "execution_count": 9,
   "metadata": {
    "execution": {
     "iopub.execute_input": "2022-02-18T17:00:05.070861Z",
     "iopub.status.busy": "2022-02-18T17:00:05.070310Z",
     "iopub.status.idle": "2022-02-18T17:00:05.072601Z",
     "shell.execute_reply": "2022-02-18T17:00:05.073034Z",
     "shell.execute_reply.started": "2022-02-18T16:58:57.243774Z"
    },
    "papermill": {
     "duration": 0.029985,
     "end_time": "2022-02-18T17:00:05.073171",
     "exception": false,
     "start_time": "2022-02-18T17:00:05.043186",
     "status": "completed"
    },
    "tags": []
   },
   "outputs": [
    {
     "data": {
      "text/plain": [
       "'Our Deeds are the Reason of this #earthquake May ALLAH Forgive us all'"
      ]
     },
     "execution_count": 9,
     "metadata": {},
     "output_type": "execute_result"
    }
   ],
   "source": [
    "tweets.text[0]"
   ]
  },
  {
   "cell_type": "code",
   "execution_count": 10,
   "metadata": {
    "execution": {
     "iopub.execute_input": "2022-02-18T17:00:05.119536Z",
     "iopub.status.busy": "2022-02-18T17:00:05.119036Z",
     "iopub.status.idle": "2022-02-18T17:00:06.818898Z",
     "shell.execute_reply": "2022-02-18T17:00:06.818164Z",
     "shell.execute_reply.started": "2022-02-18T16:58:57.528614Z"
    },
    "papermill": {
     "duration": 1.724125,
     "end_time": "2022-02-18T17:00:06.819040",
     "exception": false,
     "start_time": "2022-02-18T17:00:05.094915",
     "status": "completed"
    },
    "tags": []
   },
   "outputs": [],
   "source": [
    "from nltk.corpus import stopwords\n",
    "#nltk.download(\"stopwords\")\n",
    "from nltk.stem import WordNetLemmatizer\n",
    "from nltk import PorterStemmer\n",
    "\n",
    "\n",
    "lemmatizer = WordNetLemmatizer()\n",
    "stop_words = set(stopwords.words('english'))\n",
    "stemmer = PorterStemmer()"
   ]
  },
  {
   "cell_type": "code",
   "execution_count": 11,
   "metadata": {
    "execution": {
     "iopub.execute_input": "2022-02-18T17:00:06.896603Z",
     "iopub.status.busy": "2022-02-18T17:00:06.895790Z",
     "iopub.status.idle": "2022-02-18T17:00:06.900987Z",
     "shell.execute_reply": "2022-02-18T17:00:06.900279Z",
     "shell.execute_reply.started": "2022-02-18T16:58:59.296312Z"
    },
    "papermill": {
     "duration": 0.047348,
     "end_time": "2022-02-18T17:00:06.901134",
     "exception": false,
     "start_time": "2022-02-18T17:00:06.853786",
     "status": "completed"
    },
    "tags": []
   },
   "outputs": [],
   "source": [
    "from sklearn.base import BaseEstimator, TransformerMixin\n",
    "\n",
    "class TextProcessor(BaseEstimator, TransformerMixin):\n",
    "    def __init__(self, remove_punc=True, to_lower=True, remove_num=True, remove_stopwords=True, lemmatize=True):\n",
    "        self.remove_punc=remove_punc\n",
    "        self.to_lower=to_lower\n",
    "        self.remove_num=remove_num\n",
    "        self.remove_stopwords = remove_stopwords\n",
    "        self.lemmatize=lemmatize\n",
    "        \n",
    "    def fit(self, X, y=None):\n",
    "        return self\n",
    "    \n",
    "    def transform(self, X, y=None):\n",
    "        X_transformed =[]\n",
    "        for text in X:\n",
    "            if self.remove_punc:\n",
    "                text = re.sub(r'\\W+',' ', text)\n",
    "            if self.to_lower:\n",
    "                text = text.lower()\n",
    "            if self.remove_num:\n",
    "                text = re.sub(r'\\d+(?:\\.\\d*)?(?:[eE][+-]?\\d+)?', ' num ', text)\n",
    "            words = text.split(' ')\n",
    "            filtered_text = []\n",
    "            if self.remove_stopwords:\n",
    "                for word in words:\n",
    "                    if word not in stop_words:\n",
    "                        filtered_text.append(word)\n",
    "            if self.lemmatize:\n",
    "                lem_words = []\n",
    "                for word in filtered_text:\n",
    "                    word_lemma = lemmatizer.lemmatize(word)\n",
    "                    if not word_lemma in lem_words:\n",
    "                        lem_words.append(word_lemma)\n",
    "                text = lem_words\n",
    "            X_transformed.append(text)\n",
    "        return np.array(X_transformed)\n",
    "                    "
   ]
  },
  {
   "cell_type": "code",
   "execution_count": 12,
   "metadata": {
    "execution": {
     "iopub.execute_input": "2022-02-18T17:00:06.980234Z",
     "iopub.status.busy": "2022-02-18T17:00:06.979548Z",
     "iopub.status.idle": "2022-02-18T17:00:06.981718Z",
     "shell.execute_reply": "2022-02-18T17:00:06.982072Z",
     "shell.execute_reply.started": "2022-02-18T16:58:59.310452Z"
    },
    "papermill": {
     "duration": 0.046911,
     "end_time": "2022-02-18T17:00:06.982213",
     "exception": false,
     "start_time": "2022-02-18T17:00:06.935302",
     "status": "completed"
    },
    "tags": []
   },
   "outputs": [],
   "source": [
    "class TextCounterTransformer(BaseEstimator, TransformerMixin):\n",
    "    def __init__(self, lower_case=True, remove_punctuation=True, remove_numbers=True, remove_urls=True, lemmatizing=True, remove_stopwords=True, stemming=True):\n",
    "        self.lower_case = lower_case\n",
    "        self.remove_punctuation = remove_punctuation\n",
    "        self.remove_numbers = remove_numbers\n",
    "        self.lemmatizing = lemmatizing\n",
    "        self.remove_stopwords = remove_stopwords\n",
    "        self.stemming = stemming\n",
    "        self.remove_urls = remove_urls\n",
    "        \n",
    "    def fit(self,X ,y=None):\n",
    "        return self\n",
    "    \n",
    "    def transform(self, X, y=None):\n",
    "        X_processed = []\n",
    "        for text in X:\n",
    "            if self.lower_case:\n",
    "                text = text.lower()\n",
    "            if self.remove_urls:\n",
    "                text = re.sub(r'http?:.*(?=\\s)',' url ', text)\n",
    "            if self.remove_numbers:\n",
    "                text = re.sub(r'\\d+(?:\\.\\d*)?(?:[eE][+-]?\\d+)?', ' ', text)\n",
    "            if self.remove_punctuation:\n",
    "                text = re.sub(r'\\W+', ' ', text, flags=re.M)\n",
    "            if self.remove_stopwords:\n",
    "                text = [word for word in text.split() if not word in stop_words]\n",
    "            word_counts = Counter(text)\n",
    "            if self.stemming:\n",
    "                stem_words = Counter()\n",
    "                for word,count in word_counts.items():\n",
    "                    word_stem = stemmer.stem(word)\n",
    "                    stem_words[word_stem]+=count\n",
    "                word_counts = stem_words\n",
    "            X_processed.append(word_counts)\n",
    "        return np.array(X_processed)"
   ]
  },
  {
   "cell_type": "code",
   "execution_count": 13,
   "metadata": {
    "execution": {
     "iopub.execute_input": "2022-02-18T17:00:07.030728Z",
     "iopub.status.busy": "2022-02-18T17:00:07.030143Z",
     "iopub.status.idle": "2022-02-18T17:00:09.276616Z",
     "shell.execute_reply": "2022-02-18T17:00:09.276067Z",
     "shell.execute_reply.started": "2022-02-18T16:58:59.328895Z"
    },
    "papermill": {
     "duration": 2.272598,
     "end_time": "2022-02-18T17:00:09.276728",
     "exception": false,
     "start_time": "2022-02-18T17:00:07.004130",
     "status": "completed"
    },
    "tags": []
   },
   "outputs": [
    {
     "name": "stderr",
     "output_type": "stream",
     "text": [
      "/opt/conda/lib/python3.7/site-packages/ipykernel_launcher.py:37: VisibleDeprecationWarning: Creating an ndarray from ragged nested sequences (which is a list-or-tuple of lists-or-tuples-or ndarrays with different lengths or shapes) is deprecated. If you meant to do this, you must specify 'dtype=object' when creating the ndarray\n"
     ]
    }
   ],
   "source": [
    "text_processor1 = TextProcessor()\n",
    "data = text_processor1.fit_transform(tweets.text)"
   ]
  },
  {
   "cell_type": "code",
   "execution_count": 14,
   "metadata": {
    "execution": {
     "iopub.execute_input": "2022-02-18T17:00:09.327813Z",
     "iopub.status.busy": "2022-02-18T17:00:09.327209Z",
     "iopub.status.idle": "2022-02-18T17:00:09.329555Z",
     "shell.execute_reply": "2022-02-18T17:00:09.329925Z",
     "shell.execute_reply.started": "2022-02-18T16:59:02.438792Z"
    },
    "papermill": {
     "duration": 0.030122,
     "end_time": "2022-02-18T17:00:09.330063",
     "exception": false,
     "start_time": "2022-02-18T17:00:09.299941",
     "status": "completed"
    },
    "tags": []
   },
   "outputs": [
    {
     "data": {
      "text/plain": [
       "array([list(['deed', 'reason', 'earthquake', 'may', 'allah', 'forgive', 'u']),\n",
       "       list(['forest', 'fire', 'near', 'la', 'ronge', 'sask', 'canada']),\n",
       "       list(['resident', 'asked', 'shelter', 'place', 'notified', 'officer', 'evacuation', 'order', 'expected']),\n",
       "       ...,\n",
       "       list(['num', '', 'utc', 'km', 'volcano', 'hawaii', 'http', 'co', 'zdtoyd', 'ebj']),\n",
       "       list(['police', 'investigating', 'e', 'bike', 'collided', 'car', 'little', 'portugal', 'rider', 'suffered', 'serious', 'non', 'life', 'threatening', 'injury', '']),\n",
       "       list(['latest', 'home', 'razed', 'northern', 'california', 'wildfire', 'abc', 'news', 'http', 'co', 'ymy', 'num', 'rskq'])],\n",
       "      dtype=object)"
      ]
     },
     "execution_count": 14,
     "metadata": {},
     "output_type": "execute_result"
    }
   ],
   "source": [
    "data"
   ]
  },
  {
   "cell_type": "code",
   "execution_count": 15,
   "metadata": {
    "execution": {
     "iopub.execute_input": "2022-02-18T17:00:09.380225Z",
     "iopub.status.busy": "2022-02-18T17:00:09.377753Z",
     "iopub.status.idle": "2022-02-18T17:00:09.382689Z",
     "shell.execute_reply": "2022-02-18T17:00:09.382157Z",
     "shell.execute_reply.started": "2022-02-18T16:59:02.448451Z"
    },
    "papermill": {
     "duration": 0.030101,
     "end_time": "2022-02-18T17:00:09.382808",
     "exception": false,
     "start_time": "2022-02-18T17:00:09.352707",
     "status": "completed"
    },
    "tags": []
   },
   "outputs": [],
   "source": [
    "keywords = tweets.keyword.unique()"
   ]
  },
  {
   "cell_type": "code",
   "execution_count": 16,
   "metadata": {
    "execution": {
     "iopub.execute_input": "2022-02-18T17:00:09.432578Z",
     "iopub.status.busy": "2022-02-18T17:00:09.431930Z",
     "iopub.status.idle": "2022-02-18T17:00:09.435620Z",
     "shell.execute_reply": "2022-02-18T17:00:09.435196Z",
     "shell.execute_reply.started": "2022-02-18T16:59:02.462892Z"
    },
    "papermill": {
     "duration": 0.03056,
     "end_time": "2022-02-18T17:00:09.435730",
     "exception": false,
     "start_time": "2022-02-18T17:00:09.405170",
     "status": "completed"
    },
    "scrolled": true,
    "tags": []
   },
   "outputs": [
    {
     "data": {
      "text/plain": [
       "array([nan, 'ablaze', 'accident', 'aftershock', 'airplane%20accident',\n",
       "       'ambulance', 'annihilated', 'annihilation', 'apocalypse',\n",
       "       'armageddon', 'army', 'arson', 'arsonist', 'attack', 'attacked',\n",
       "       'avalanche', 'battle', 'bioterror', 'bioterrorism', 'blaze',\n",
       "       'blazing', 'bleeding', 'blew%20up', 'blight', 'blizzard', 'blood',\n",
       "       'bloody', 'blown%20up', 'body%20bag', 'body%20bagging',\n",
       "       'body%20bags', 'bomb', 'bombed', 'bombing', 'bridge%20collapse',\n",
       "       'buildings%20burning', 'buildings%20on%20fire', 'burned',\n",
       "       'burning', 'burning%20buildings', 'bush%20fires', 'casualties',\n",
       "       'casualty', 'catastrophe', 'catastrophic', 'chemical%20emergency',\n",
       "       'cliff%20fall', 'collapse', 'collapsed', 'collide', 'collided',\n",
       "       'collision', 'crash', 'crashed', 'crush', 'crushed', 'curfew',\n",
       "       'cyclone', 'damage', 'danger', 'dead', 'death', 'deaths', 'debris',\n",
       "       'deluge', 'deluged', 'demolish', 'demolished', 'demolition',\n",
       "       'derail', 'derailed', 'derailment', 'desolate', 'desolation',\n",
       "       'destroy', 'destroyed', 'destruction', 'detonate', 'detonation',\n",
       "       'devastated', 'devastation', 'disaster', 'displaced', 'drought',\n",
       "       'drown', 'drowned', 'drowning', 'dust%20storm', 'earthquake',\n",
       "       'electrocute', 'electrocuted', 'emergency', 'emergency%20plan',\n",
       "       'emergency%20services', 'engulfed', 'epicentre', 'evacuate',\n",
       "       'evacuated', 'evacuation', 'explode', 'exploded', 'explosion',\n",
       "       'eyewitness', 'famine', 'fatal', 'fatalities', 'fatality', 'fear',\n",
       "       'fire', 'fire%20truck', 'first%20responders', 'flames',\n",
       "       'flattened', 'flood', 'flooding', 'floods', 'forest%20fire',\n",
       "       'forest%20fires', 'hail', 'hailstorm', 'harm', 'hazard',\n",
       "       'hazardous', 'heat%20wave', 'hellfire', 'hijack', 'hijacker',\n",
       "       'hijacking', 'hostage', 'hostages', 'hurricane', 'injured',\n",
       "       'injuries', 'injury', 'inundated', 'inundation', 'landslide',\n",
       "       'lava', 'lightning', 'loud%20bang', 'mass%20murder',\n",
       "       'mass%20murderer', 'massacre', 'mayhem', 'meltdown', 'military',\n",
       "       'mudslide', 'natural%20disaster', 'nuclear%20disaster',\n",
       "       'nuclear%20reactor', 'obliterate', 'obliterated', 'obliteration',\n",
       "       'oil%20spill', 'outbreak', 'pandemonium', 'panic', 'panicking',\n",
       "       'police', 'quarantine', 'quarantined', 'radiation%20emergency',\n",
       "       'rainstorm', 'razed', 'refugees', 'rescue', 'rescued', 'rescuers',\n",
       "       'riot', 'rioting', 'rubble', 'ruin', 'sandstorm', 'screamed',\n",
       "       'screaming', 'screams', 'seismic', 'sinkhole', 'sinking', 'siren',\n",
       "       'sirens', 'smoke', 'snowstorm', 'storm', 'stretcher',\n",
       "       'structural%20failure', 'suicide%20bomb', 'suicide%20bomber',\n",
       "       'suicide%20bombing', 'sunk', 'survive', 'survived', 'survivors',\n",
       "       'terrorism', 'terrorist', 'threat', 'thunder', 'thunderstorm',\n",
       "       'tornado', 'tragedy', 'trapped', 'trauma', 'traumatised',\n",
       "       'trouble', 'tsunami', 'twister', 'typhoon', 'upheaval',\n",
       "       'violent%20storm', 'volcano', 'war%20zone', 'weapon', 'weapons',\n",
       "       'whirlwind', 'wild%20fires', 'wildfire', 'windstorm', 'wounded',\n",
       "       'wounds', 'wreck', 'wreckage', 'wrecked'], dtype=object)"
      ]
     },
     "execution_count": 16,
     "metadata": {},
     "output_type": "execute_result"
    }
   ],
   "source": [
    "keywords"
   ]
  },
  {
   "cell_type": "code",
   "execution_count": 17,
   "metadata": {
    "execution": {
     "iopub.execute_input": "2022-02-18T17:00:09.486947Z",
     "iopub.status.busy": "2022-02-18T17:00:09.486455Z",
     "iopub.status.idle": "2022-02-18T17:00:09.488249Z",
     "shell.execute_reply": "2022-02-18T17:00:09.487798Z",
     "shell.execute_reply.started": "2022-02-18T16:59:02.476782Z"
    },
    "papermill": {
     "duration": 0.029328,
     "end_time": "2022-02-18T17:00:09.488401",
     "exception": false,
     "start_time": "2022-02-18T17:00:09.459073",
     "status": "completed"
    },
    "tags": []
   },
   "outputs": [],
   "source": [
    "keywords=[x.replace('%20',' ') for x in keywords[1:]]"
   ]
  },
  {
   "cell_type": "code",
   "execution_count": 18,
   "metadata": {
    "execution": {
     "iopub.execute_input": "2022-02-18T17:00:09.540532Z",
     "iopub.status.busy": "2022-02-18T17:00:09.539759Z",
     "iopub.status.idle": "2022-02-18T17:00:09.541608Z",
     "shell.execute_reply": "2022-02-18T17:00:09.541137Z",
     "shell.execute_reply.started": "2022-02-18T16:59:07.283664Z"
    },
    "papermill": {
     "duration": 0.030769,
     "end_time": "2022-02-18T17:00:09.541715",
     "exception": false,
     "start_time": "2022-02-18T17:00:09.510946",
     "status": "completed"
    },
    "tags": []
   },
   "outputs": [],
   "source": [
    "keywords = set([lemmatizer.lemmatize(x) for x in keywords])"
   ]
  },
  {
   "cell_type": "code",
   "execution_count": 19,
   "metadata": {
    "execution": {
     "iopub.execute_input": "2022-02-18T17:00:09.596015Z",
     "iopub.status.busy": "2022-02-18T17:00:09.595463Z",
     "iopub.status.idle": "2022-02-18T17:00:09.597891Z",
     "shell.execute_reply": "2022-02-18T17:00:09.598270Z",
     "shell.execute_reply.started": "2022-02-18T15:37:10.859303Z"
    },
    "papermill": {
     "duration": 0.033194,
     "end_time": "2022-02-18T17:00:09.598416",
     "exception": false,
     "start_time": "2022-02-18T17:00:09.565222",
     "status": "completed"
    },
    "scrolled": true,
    "tags": []
   },
   "outputs": [
    {
     "data": {
      "text/plain": [
       "{'ablaze',\n",
       " 'accident',\n",
       " 'aftershock',\n",
       " 'airplane accident',\n",
       " 'ambulance',\n",
       " 'annihilated',\n",
       " 'annihilation',\n",
       " 'apocalypse',\n",
       " 'armageddon',\n",
       " 'army',\n",
       " 'arson',\n",
       " 'arsonist',\n",
       " 'attack',\n",
       " 'attacked',\n",
       " 'avalanche',\n",
       " 'battle',\n",
       " 'bioterror',\n",
       " 'bioterrorism',\n",
       " 'blaze',\n",
       " 'blazing',\n",
       " 'bleeding',\n",
       " 'blew up',\n",
       " 'blight',\n",
       " 'blizzard',\n",
       " 'blood',\n",
       " 'bloody',\n",
       " 'blown up',\n",
       " 'body bag',\n",
       " 'body bagging',\n",
       " 'body bags',\n",
       " 'bomb',\n",
       " 'bombed',\n",
       " 'bombing',\n",
       " 'bridge collapse',\n",
       " 'buildings burning',\n",
       " 'buildings on fire',\n",
       " 'burned',\n",
       " 'burning',\n",
       " 'burning buildings',\n",
       " 'bush fires',\n",
       " 'casualty',\n",
       " 'catastrophe',\n",
       " 'catastrophic',\n",
       " 'chemical emergency',\n",
       " 'cliff fall',\n",
       " 'collapse',\n",
       " 'collapsed',\n",
       " 'collide',\n",
       " 'collided',\n",
       " 'collision',\n",
       " 'crash',\n",
       " 'crashed',\n",
       " 'crush',\n",
       " 'crushed',\n",
       " 'curfew',\n",
       " 'cyclone',\n",
       " 'damage',\n",
       " 'danger',\n",
       " 'dead',\n",
       " 'death',\n",
       " 'debris',\n",
       " 'deluge',\n",
       " 'deluged',\n",
       " 'demolish',\n",
       " 'demolished',\n",
       " 'demolition',\n",
       " 'derail',\n",
       " 'derailed',\n",
       " 'derailment',\n",
       " 'desolate',\n",
       " 'desolation',\n",
       " 'destroy',\n",
       " 'destroyed',\n",
       " 'destruction',\n",
       " 'detonate',\n",
       " 'detonation',\n",
       " 'devastated',\n",
       " 'devastation',\n",
       " 'disaster',\n",
       " 'displaced',\n",
       " 'drought',\n",
       " 'drown',\n",
       " 'drowned',\n",
       " 'drowning',\n",
       " 'dust storm',\n",
       " 'earthquake',\n",
       " 'electrocute',\n",
       " 'electrocuted',\n",
       " 'emergency',\n",
       " 'emergency plan',\n",
       " 'emergency services',\n",
       " 'engulfed',\n",
       " 'epicentre',\n",
       " 'evacuate',\n",
       " 'evacuated',\n",
       " 'evacuation',\n",
       " 'explode',\n",
       " 'exploded',\n",
       " 'explosion',\n",
       " 'eyewitness',\n",
       " 'famine',\n",
       " 'fatal',\n",
       " 'fatality',\n",
       " 'fear',\n",
       " 'fire',\n",
       " 'fire truck',\n",
       " 'first responders',\n",
       " 'flame',\n",
       " 'flattened',\n",
       " 'flood',\n",
       " 'flooding',\n",
       " 'forest fire',\n",
       " 'forest fires',\n",
       " 'hail',\n",
       " 'hailstorm',\n",
       " 'harm',\n",
       " 'hazard',\n",
       " 'hazardous',\n",
       " 'heat wave',\n",
       " 'hellfire',\n",
       " 'hijack',\n",
       " 'hijacker',\n",
       " 'hijacking',\n",
       " 'hostage',\n",
       " 'hurricane',\n",
       " 'injured',\n",
       " 'injury',\n",
       " 'inundated',\n",
       " 'inundation',\n",
       " 'landslide',\n",
       " 'lava',\n",
       " 'lightning',\n",
       " 'loud bang',\n",
       " 'mass murder',\n",
       " 'mass murderer',\n",
       " 'massacre',\n",
       " 'mayhem',\n",
       " 'meltdown',\n",
       " 'military',\n",
       " 'mudslide',\n",
       " 'natural disaster',\n",
       " 'nuclear disaster',\n",
       " 'nuclear reactor',\n",
       " 'obliterate',\n",
       " 'obliterated',\n",
       " 'obliteration',\n",
       " 'oil spill',\n",
       " 'outbreak',\n",
       " 'pandemonium',\n",
       " 'panic',\n",
       " 'panicking',\n",
       " 'police',\n",
       " 'quarantine',\n",
       " 'quarantined',\n",
       " 'radiation emergency',\n",
       " 'rainstorm',\n",
       " 'razed',\n",
       " 'refugee',\n",
       " 'rescue',\n",
       " 'rescued',\n",
       " 'rescuer',\n",
       " 'riot',\n",
       " 'rioting',\n",
       " 'rubble',\n",
       " 'ruin',\n",
       " 'sandstorm',\n",
       " 'scream',\n",
       " 'screamed',\n",
       " 'screaming',\n",
       " 'seismic',\n",
       " 'sinkhole',\n",
       " 'sinking',\n",
       " 'siren',\n",
       " 'smoke',\n",
       " 'snowstorm',\n",
       " 'storm',\n",
       " 'stretcher',\n",
       " 'structural failure',\n",
       " 'suicide bomb',\n",
       " 'suicide bomber',\n",
       " 'suicide bombing',\n",
       " 'sunk',\n",
       " 'survive',\n",
       " 'survived',\n",
       " 'survivor',\n",
       " 'terrorism',\n",
       " 'terrorist',\n",
       " 'threat',\n",
       " 'thunder',\n",
       " 'thunderstorm',\n",
       " 'tornado',\n",
       " 'tragedy',\n",
       " 'trapped',\n",
       " 'trauma',\n",
       " 'traumatised',\n",
       " 'trouble',\n",
       " 'tsunami',\n",
       " 'twister',\n",
       " 'typhoon',\n",
       " 'upheaval',\n",
       " 'violent storm',\n",
       " 'volcano',\n",
       " 'war zone',\n",
       " 'weapon',\n",
       " 'whirlwind',\n",
       " 'wild fires',\n",
       " 'wildfire',\n",
       " 'windstorm',\n",
       " 'wound',\n",
       " 'wounded',\n",
       " 'wreck',\n",
       " 'wreckage',\n",
       " 'wrecked'}"
      ]
     },
     "execution_count": 19,
     "metadata": {},
     "output_type": "execute_result"
    }
   ],
   "source": [
    "keywords"
   ]
  },
  {
   "cell_type": "code",
   "execution_count": 20,
   "metadata": {
    "execution": {
     "iopub.execute_input": "2022-02-18T17:00:09.654517Z",
     "iopub.status.busy": "2022-02-18T17:00:09.653946Z",
     "iopub.status.idle": "2022-02-18T17:00:13.029817Z",
     "shell.execute_reply": "2022-02-18T17:00:13.029327Z",
     "shell.execute_reply.started": "2022-02-18T16:59:13.519694Z"
    },
    "papermill": {
     "duration": 3.4083,
     "end_time": "2022-02-18T17:00:13.029934",
     "exception": false,
     "start_time": "2022-02-18T17:00:09.621634",
     "status": "completed"
    },
    "tags": []
   },
   "outputs": [],
   "source": [
    "textprocessor2 = TextCounterTransformer()\n",
    "text_processed = textprocessor2.fit_transform(tweets.text)"
   ]
  },
  {
   "cell_type": "code",
   "execution_count": 21,
   "metadata": {
    "execution": {
     "iopub.execute_input": "2022-02-18T17:00:13.083138Z",
     "iopub.status.busy": "2022-02-18T17:00:13.082473Z",
     "iopub.status.idle": "2022-02-18T17:00:13.088415Z",
     "shell.execute_reply": "2022-02-18T17:00:13.087710Z",
     "shell.execute_reply.started": "2022-02-18T16:59:16.131306Z"
    },
    "papermill": {
     "duration": 0.034783,
     "end_time": "2022-02-18T17:00:13.088550",
     "exception": false,
     "start_time": "2022-02-18T17:00:13.053767",
     "status": "completed"
    },
    "tags": []
   },
   "outputs": [
    {
     "data": {
      "text/plain": [
       "array([Counter({'deed': 1, 'reason': 1, 'earthquak': 1, 'may': 1, 'allah': 1, 'forgiv': 1, 'us': 1}),\n",
       "       Counter({'forest': 1, 'fire': 1, 'near': 1, 'la': 1, 'rong': 1, 'sask': 1, 'canada': 1}),\n",
       "       Counter({'shelter': 2, 'place': 2, 'resid': 1, 'ask': 1, 'notifi': 1, 'offic': 1, 'evacu': 1, 'order': 1, 'expect': 1}),\n",
       "       ...,\n",
       "       Counter({'utc': 1, 'km': 1, 'volcano': 1, 'hawaii': 1, 'http': 1, 'co': 1, 'zdtoyd': 1, 'ebj': 1}),\n",
       "       Counter({'e': 2, 'bike': 2, 'polic': 1, 'investig': 1, 'collid': 1, 'car': 1, 'littl': 1, 'portug': 1, 'rider': 1, 'suffer': 1, 'seriou': 1, 'non': 1, 'life': 1, 'threaten': 1, 'injuri': 1}),\n",
       "       Counter({'latest': 1, 'home': 1, 'raze': 1, 'northern': 1, 'california': 1, 'wildfir': 1, 'abc': 1, 'news': 1, 'http': 1, 'co': 1, 'ymi': 1, 'rskq': 1})],\n",
       "      dtype=object)"
      ]
     },
     "execution_count": 21,
     "metadata": {},
     "output_type": "execute_result"
    }
   ],
   "source": [
    "text_processed"
   ]
  },
  {
   "cell_type": "code",
   "execution_count": 22,
   "metadata": {
    "execution": {
     "iopub.execute_input": "2022-02-18T17:00:13.149176Z",
     "iopub.status.busy": "2022-02-18T17:00:13.148516Z",
     "iopub.status.idle": "2022-02-18T17:00:13.150454Z",
     "shell.execute_reply": "2022-02-18T17:00:13.149855Z",
     "shell.execute_reply.started": "2022-02-18T16:59:16.139530Z"
    },
    "papermill": {
     "duration": 0.038102,
     "end_time": "2022-02-18T17:00:13.150595",
     "exception": false,
     "start_time": "2022-02-18T17:00:13.112493",
     "status": "completed"
    },
    "tags": []
   },
   "outputs": [],
   "source": [
    "from scipy.sparse import csr_matrix\n",
    "\n",
    "class TextTransformer(BaseEstimator, TransformerMixin):\n",
    "    def __init__(self,vocabulary_size=2000):\n",
    "        self.vocabulary_size = vocabulary_size\n",
    "        \n",
    "    def fit(self,X ,y=None):\n",
    "        words_count = Counter()\n",
    "        for word_count in X:\n",
    "            for word,count in word_count.items():\n",
    "                words_count[word]+=min(count,10)\n",
    "        most_common = words_count.most_common()[:self.vocabulary_size]\n",
    "        self.vocabulary_ = {word: index + 1 for index, (word, count) in enumerate(most_common)}\n",
    "        return self\n",
    "    \n",
    "    def transform(self, X, y=None):\n",
    "        rows = []\n",
    "        cols = []\n",
    "        data = []\n",
    "        for row, word_count in enumerate(X):\n",
    "            for word, count in word_count.items():\n",
    "                rows.append(row)\n",
    "                cols.append(self.vocabulary_.get(word, 0))\n",
    "                data.append(count)\n",
    "        return csr_matrix((data, (rows, cols)), shape=(len(X), self.vocabulary_size + 1))"
   ]
  },
  {
   "cell_type": "code",
   "execution_count": 23,
   "metadata": {
    "execution": {
     "iopub.execute_input": "2022-02-18T17:00:13.240471Z",
     "iopub.status.busy": "2022-02-18T17:00:13.234947Z",
     "iopub.status.idle": "2022-02-18T17:00:13.340418Z",
     "shell.execute_reply": "2022-02-18T17:00:13.339821Z",
     "shell.execute_reply.started": "2022-02-18T16:59:16.977791Z"
    },
    "papermill": {
     "duration": 0.15232,
     "end_time": "2022-02-18T17:00:13.340557",
     "exception": false,
     "start_time": "2022-02-18T17:00:13.188237",
     "status": "completed"
    },
    "tags": []
   },
   "outputs": [],
   "source": [
    "texttransformer = TextTransformer()\n",
    "text_vec = texttransformer.fit_transform(text_processed)"
   ]
  },
  {
   "cell_type": "code",
   "execution_count": 24,
   "metadata": {
    "execution": {
     "iopub.execute_input": "2022-02-18T17:00:13.419855Z",
     "iopub.status.busy": "2022-02-18T17:00:13.419162Z",
     "iopub.status.idle": "2022-02-18T17:00:13.423673Z",
     "shell.execute_reply": "2022-02-18T17:00:13.423100Z",
     "shell.execute_reply.started": "2022-02-18T16:59:18.129493Z"
    },
    "papermill": {
     "duration": 0.046626,
     "end_time": "2022-02-18T17:00:13.423818",
     "exception": false,
     "start_time": "2022-02-18T17:00:13.377192",
     "status": "completed"
    },
    "tags": []
   },
   "outputs": [
    {
     "data": {
      "text/plain": [
       "<7613x2001 sparse matrix of type '<class 'numpy.int64'>'\n",
       "\twith 65235 stored elements in Compressed Sparse Row format>"
      ]
     },
     "execution_count": 24,
     "metadata": {},
     "output_type": "execute_result"
    }
   ],
   "source": [
    "text_vec"
   ]
  },
  {
   "cell_type": "code",
   "execution_count": 25,
   "metadata": {
    "execution": {
     "iopub.execute_input": "2022-02-18T17:00:13.504036Z",
     "iopub.status.busy": "2022-02-18T17:00:13.503342Z",
     "iopub.status.idle": "2022-02-18T17:00:14.085336Z",
     "shell.execute_reply": "2022-02-18T17:00:14.084779Z",
     "shell.execute_reply.started": "2022-02-18T16:59:20.584205Z"
    },
    "papermill": {
     "duration": 0.624653,
     "end_time": "2022-02-18T17:00:14.085487",
     "exception": false,
     "start_time": "2022-02-18T17:00:13.460834",
     "status": "completed"
    },
    "tags": []
   },
   "outputs": [
    {
     "name": "stderr",
     "output_type": "stream",
     "text": [
      "[Parallel(n_jobs=1)]: Using backend SequentialBackend with 1 concurrent workers.\n"
     ]
    },
    {
     "name": "stdout",
     "output_type": "stream",
     "text": [
      "[CV]  ................................................................\n",
      "[CV] .................................... , score=0.708, total=   0.2s\n",
      "[CV]  ................................................................\n",
      "[CV] .................................... , score=0.670, total=   0.2s\n",
      "[CV]  ................................................................\n"
     ]
    },
    {
     "name": "stderr",
     "output_type": "stream",
     "text": [
      "[Parallel(n_jobs=1)]: Done   1 out of   1 | elapsed:    0.2s remaining:    0.0s\n",
      "[Parallel(n_jobs=1)]: Done   2 out of   2 | elapsed:    0.4s remaining:    0.0s\n"
     ]
    },
    {
     "name": "stdout",
     "output_type": "stream",
     "text": [
      "[CV] .................................... , score=0.708, total=   0.2s\n"
     ]
    },
    {
     "name": "stderr",
     "output_type": "stream",
     "text": [
      "[Parallel(n_jobs=1)]: Done   3 out of   3 | elapsed:    0.6s finished\n"
     ]
    },
    {
     "data": {
      "text/plain": [
       "0.6952597226920226"
      ]
     },
     "execution_count": 25,
     "metadata": {},
     "output_type": "execute_result"
    }
   ],
   "source": [
    "from sklearn.linear_model import LogisticRegression\n",
    "from sklearn.model_selection import cross_val_score\n",
    "\n",
    "log_clf = LogisticRegression(solver=\"lbfgs\", max_iter=1000, random_state=42)\n",
    "score = cross_val_score(log_clf, text_vec, tweets.target, cv=3, verbose=3)\n",
    "score.mean()"
   ]
  },
  {
   "cell_type": "code",
   "execution_count": 26,
   "metadata": {
    "execution": {
     "iopub.execute_input": "2022-02-18T17:00:14.169309Z",
     "iopub.status.busy": "2022-02-18T17:00:14.168652Z",
     "iopub.status.idle": "2022-02-18T17:00:14.178877Z",
     "shell.execute_reply": "2022-02-18T17:00:14.178221Z",
     "shell.execute_reply.started": "2022-02-18T16:59:23.441029Z"
    },
    "papermill": {
     "duration": 0.053669,
     "end_time": "2022-02-18T17:00:14.179013",
     "exception": false,
     "start_time": "2022-02-18T17:00:14.125344",
     "status": "completed"
    },
    "tags": []
   },
   "outputs": [
    {
     "name": "stdout",
     "output_type": "stream",
     "text": [
      "<class 'pandas.core.frame.DataFrame'>\n",
      "RangeIndex: 3263 entries, 0 to 3262\n",
      "Data columns (total 4 columns):\n",
      " #   Column    Non-Null Count  Dtype \n",
      "---  ------    --------------  ----- \n",
      " 0   id        3263 non-null   int64 \n",
      " 1   keyword   3237 non-null   object\n",
      " 2   location  2158 non-null   object\n",
      " 3   text      3263 non-null   object\n",
      "dtypes: int64(1), object(3)\n",
      "memory usage: 102.1+ KB\n"
     ]
    }
   ],
   "source": [
    "test.info()"
   ]
  },
  {
   "cell_type": "code",
   "execution_count": 27,
   "metadata": {
    "execution": {
     "iopub.execute_input": "2022-02-18T17:00:14.263239Z",
     "iopub.status.busy": "2022-02-18T17:00:14.262577Z",
     "iopub.status.idle": "2022-02-18T17:00:15.158467Z",
     "shell.execute_reply": "2022-02-18T17:00:15.159112Z",
     "shell.execute_reply.started": "2022-02-18T16:59:24.738844Z"
    },
    "papermill": {
     "duration": 0.939554,
     "end_time": "2022-02-18T17:00:15.159319",
     "exception": false,
     "start_time": "2022-02-18T17:00:14.219765",
     "status": "completed"
    },
    "tags": []
   },
   "outputs": [],
   "source": [
    "from sklearn.pipeline import Pipeline\n",
    "\n",
    "preprocess_pipeline = Pipeline([\n",
    "    (\"text_counter\", textprocessor2),\n",
    "    (\"wordcount_to_vector\", texttransformer),\n",
    "])\n",
    "\n",
    "test_transformed = preprocess_pipeline.transform(test.text)"
   ]
  },
  {
   "cell_type": "code",
   "execution_count": 28,
   "metadata": {
    "execution": {
     "iopub.execute_input": "2022-02-18T17:00:15.247430Z",
     "iopub.status.busy": "2022-02-18T17:00:15.246890Z",
     "iopub.status.idle": "2022-02-18T17:00:15.696938Z",
     "shell.execute_reply": "2022-02-18T17:00:15.697301Z",
     "shell.execute_reply.started": "2022-02-18T16:59:26.426642Z"
    },
    "papermill": {
     "duration": 0.496669,
     "end_time": "2022-02-18T17:00:15.697479",
     "exception": false,
     "start_time": "2022-02-18T17:00:15.200810",
     "status": "completed"
    },
    "tags": []
   },
   "outputs": [
    {
     "data": {
      "text/plain": [
       "LogisticRegression(max_iter=1000, random_state=42)"
      ]
     },
     "execution_count": 28,
     "metadata": {},
     "output_type": "execute_result"
    }
   ],
   "source": [
    "log_clf.fit(text_vec,tweets.target)"
   ]
  },
  {
   "cell_type": "code",
   "execution_count": 29,
   "metadata": {
    "execution": {
     "iopub.execute_input": "2022-02-18T17:00:15.755224Z",
     "iopub.status.busy": "2022-02-18T17:00:15.753967Z",
     "iopub.status.idle": "2022-02-18T17:00:15.760493Z",
     "shell.execute_reply": "2022-02-18T17:00:15.759780Z",
     "shell.execute_reply.started": "2022-02-18T16:59:31.828632Z"
    },
    "papermill": {
     "duration": 0.035828,
     "end_time": "2022-02-18T17:00:15.760638",
     "exception": false,
     "start_time": "2022-02-18T17:00:15.724810",
     "status": "completed"
    },
    "tags": []
   },
   "outputs": [],
   "source": [
    "predictions = log_clf.predict(test_transformed)"
   ]
  },
  {
   "cell_type": "code",
   "execution_count": 30,
   "metadata": {
    "execution": {
     "iopub.execute_input": "2022-02-18T17:00:15.846035Z",
     "iopub.status.busy": "2022-02-18T17:00:15.845573Z",
     "iopub.status.idle": "2022-02-18T17:00:15.855607Z",
     "shell.execute_reply": "2022-02-18T17:00:15.856017Z",
     "shell.execute_reply.started": "2022-02-18T16:59:34.152578Z"
    },
    "papermill": {
     "duration": 0.055316,
     "end_time": "2022-02-18T17:00:15.856174",
     "exception": false,
     "start_time": "2022-02-18T17:00:15.800858",
     "status": "completed"
    },
    "tags": []
   },
   "outputs": [],
   "source": [
    "output = pd.DataFrame({'id': (test.id).astype(int),\n",
    "                       'target': predictions})\n",
    "output.to_csv('submission.csv', index=False)"
   ]
  },
  {
   "cell_type": "code",
   "execution_count": null,
   "metadata": {
    "papermill": {
     "duration": 0.026315,
     "end_time": "2022-02-18T17:00:15.910139",
     "exception": false,
     "start_time": "2022-02-18T17:00:15.883824",
     "status": "completed"
    },
    "tags": []
   },
   "outputs": [],
   "source": []
  }
 ],
 "metadata": {
  "kernelspec": {
   "display_name": "Python 3",
   "language": "python",
   "name": "python3"
  },
  "language_info": {
   "codemirror_mode": {
    "name": "ipython",
    "version": 3
   },
   "file_extension": ".py",
   "mimetype": "text/x-python",
   "name": "python",
   "nbconvert_exporter": "python",
   "pygments_lexer": "ipython3",
   "version": "3.8.5"
  },
  "papermill": {
   "default_parameters": {},
   "duration": 20.468918,
   "end_time": "2022-02-18T17:00:17.148706",
   "environment_variables": {},
   "exception": null,
   "input_path": "__notebook__.ipynb",
   "output_path": "__notebook__.ipynb",
   "parameters": {},
   "start_time": "2022-02-18T16:59:56.679788",
   "version": "2.3.3"
  }
 },
 "nbformat": 4,
 "nbformat_minor": 5
}
